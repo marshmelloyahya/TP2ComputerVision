{
  "nbformat": 4,
  "nbformat_minor": 0,
  "metadata": {
    "colab": {
      "provenance": [],
      "include_colab_link": true
    },
    "kernelspec": {
      "name": "python3",
      "display_name": "Python 3"
    },
    "language_info": {
      "name": "python"
    }
  },
  "cells": [
    {
      "cell_type": "markdown",
      "metadata": {
        "id": "view-in-github",
        "colab_type": "text"
      },
      "source": [
        "<a href=\"https://colab.research.google.com/github/marshmelloyahya/TP2ComputerVision/blob/main/Copie_de_Devoir2_NN_Based_Classifier_torch.ipynb\" target=\"_parent\"><img src=\"https://colab.research.google.com/assets/colab-badge.svg\" alt=\"Open In Colab\"/></a>"
      ]
    },
    {
      "cell_type": "markdown",
      "source": [
        "# **Chargement du Dataset**\n",
        "\n",
        "1.   Importez les bibliothèques nécessaires, y compris PyTorch et les outils de manipulation de données.\n",
        "2.   Chargez le dataset à partir de la source, par exemple, à partir d'un fichier CSV ou d'une bibliothèque de données PyTorch.\n",
        "\n",
        "3.   Explorez et visualisez les données pour mieux les comprendre, par exemple, en affichant quelques échantillons ou en traçant des statistiques descriptives.\n"
      ],
      "metadata": {
        "id": "aWPJQh0qqmTx"
      }
    },
    {
      "cell_type": "code",
      "source": [
        "# Import des bibliothèques\n",
        "import torch\n",
        "import torchvision\n",
        "from torchvision import datasets, transforms\n",
        "import matplotlib.pyplot as plt\n"
      ],
      "metadata": {
        "id": "vvbUKBqVqjdq"
      },
      "execution_count": null,
      "outputs": []
    },
    {
      "cell_type": "code",
      "source": [
        "# Chargement du dataset\n",
        "train_dataset = datasets.CIFAR10(root='./data', train=True, download=True, transform=transforms.ToTensor())\n",
        "test_dataset = datasets.CIFAR10(root='./data', train=False, download=True, transform=transforms.ToTensor())\n"
      ],
      "metadata": {
        "colab": {
          "base_uri": "https://localhost:8080/"
        },
        "id": "ipUSKT0zt3Dk",
        "outputId": "7a545977-efa2-4c78-c122-132451c5dae0"
      },
      "execution_count": null,
      "outputs": [
        {
          "output_type": "stream",
          "name": "stdout",
          "text": [
            "Downloading https://www.cs.toronto.edu/~kriz/cifar-10-python.tar.gz to ./data/cifar-10-python.tar.gz\n"
          ]
        },
        {
          "output_type": "stream",
          "name": "stderr",
          "text": [
            "100%|██████████| 170498071/170498071 [00:02<00:00, 66428777.96it/s]\n"
          ]
        },
        {
          "output_type": "stream",
          "name": "stdout",
          "text": [
            "Extracting ./data/cifar-10-python.tar.gz to ./data\n",
            "Files already downloaded and verified\n"
          ]
        }
      ]
    },
    {
      "cell_type": "code",
      "source": [
        "# Exploration des données\n",
        "print(\"Nombre d'échantillons dans l'ensemble d'entraînement:\", len(train_dataset))\n",
        "print(\"Nombre d'échantillons dans l'ensemble de test:\", len(test_dataset))\n"
      ],
      "metadata": {
        "colab": {
          "base_uri": "https://localhost:8080/"
        },
        "id": "OnfkiR7Qt5rq",
        "outputId": "12ce25ca-5dd9-40ed-cd73-7f64f052ff3a"
      },
      "execution_count": null,
      "outputs": [
        {
          "output_type": "stream",
          "name": "stdout",
          "text": [
            "Nombre d'échantillons dans l'ensemble d'entraînement: 50000\n",
            "Nombre d'échantillons dans l'ensemble de test: 10000\n"
          ]
        }
      ]
    },
    {
      "cell_type": "code",
      "source": [
        "\n",
        "# Affichage d'échantillons\n",
        "def show_samples(dataset, classes):\n",
        "    fig, axs = plt.subplots(1, 5, figsize=(15, 3), sharey=True)\n",
        "    for i in range(5):\n",
        "        sample, label = dataset[i]\n",
        "        axs[i].imshow(sample.permute(1, 2, 0))\n",
        "        axs[i].set_title(classes[label])\n",
        "        axs[i].axis('off')\n",
        "    plt.show()\n",
        "\n",
        "classes = ['airplane', 'automobile', 'bird', 'cat', 'deer', 'dog', 'frog', 'horse', 'ship', 'truck']\n",
        "show_samples(train_dataset, classes)"
      ],
      "metadata": {
        "colab": {
          "base_uri": "https://localhost:8080/",
          "height": 259
        },
        "id": "64ypKM2_t8Rm",
        "outputId": "8293a84b-f748-4d7b-bc9d-379f02378e58"
      },
      "execution_count": null,
      "outputs": [
        {
          "output_type": "display_data",
          "data": {
            "text/plain": [
              "<Figure size 1500x300 with 5 Axes>"
            ],
            "image/png": "[encoded data removed]"
          },
          "metadata": {}
        }
      ]
    },
    {
      "cell_type": "markdown",
      "source": [
        "# **Création du Réseau de Neurones**\n",
        "\n",
        "\n",
        "1.   Définissez l'architecture du réseau de neurones en créant une classe héritant de torch.nn.Module.\n",
        "2.   Définissez les couches et les opérations à l'intérieur de la classe.\n",
        "3.   Initialisez les poids du réseau.\n",
        "\n",
        "\n",
        "\n"
      ],
      "metadata": {
        "id": "BEJzRZbXuKxZ"
      }
    },
    {
      "cell_type": "code",
      "source": [
        "import torch.nn as nn\n",
        "import torch.nn.functional as F\n",
        "\n",
        "class SimpleCNN(nn.Module):\n",
        "    def __init__(self):\n",
        "        super(SimpleCNN, self).__init__()\n",
        "        self.conv1 = nn.Conv2d(3, 32, kernel_size=3, padding=1)\n",
        "        self.conv2 = nn.Conv2d(32, 64, kernel_size=3, padding=1)\n",
        "        self.fc1 = nn.Linear(64*8*8, 128)\n",
        "        self.fc2 = nn.Linear(128, 10)\n",
        "\n",
        "    def forward(self, x):\n",
        "        x = F.relu(self.conv1(x))\n",
        "        x = F.max_pool2d(x, kernel_size=2, stride=2)\n",
        "        x = F.relu(self.conv2(x))\n",
        "        x = F.max_pool2d(x, kernel_size=2, stride=2)\n",
        "        x = x.view(-1, 64*8*8)\n",
        "        x = F.relu(self.fc1(x))\n",
        "        x = self.fc2(x)\n",
        "        return x\n",
        "\n",
        "# Initialisation du réseau\n",
        "model = SimpleCNN()\n"
      ],
      "metadata": {
        "id": "JH6UGjgdudHM"
      },
      "execution_count": null,
      "outputs": []
    },
    {
      "cell_type": "markdown",
      "source": [
        "# **Choix de la Fonction de Perte et de l'Optimiseur**\n",
        "\n",
        "\n",
        "1.   Choisissez une fonction de perte appropriée en fonction de la tâche de classification.\n",
        "2.   Choisissez un optimiseur pour entraîner le réseau de neurones.\n",
        "\n",
        "\n"
      ],
      "metadata": {
        "id": "Ee9ubMamvCTV"
      }
    },
    {
      "cell_type": "code",
      "source": [
        "import torch.optim as optim\n",
        "\n",
        "# Choix de la fonction de perte\n",
        "criterion = nn.CrossEntropyLoss()\n",
        "\n",
        "# Choix de l'optimiseur\n",
        "optimizer = optim.Adam(model.parameters(), lr=0.001)\n"
      ],
      "metadata": {
        "id": "n4X7u9zSvQYu"
      },
      "execution_count": null,
      "outputs": []
    },
    {
      "cell_type": "markdown",
      "source": [
        "# **Boucle d'Entraînement**\n",
        "\n",
        "\n",
        "1.   Définissez la boucle d'entraînement principale qui comprend la propagation avant, le calcul de la perte, la rétropropagation et la mise à jour des poids du réseau.\n",
        "\n",
        "\n"
      ],
      "metadata": {
        "id": "RgbFeR4TvkaO"
      }
    },
    {
      "cell_type": "code",
      "source": [
        " # Création du DataLoader pour l'ensemble d'entraînement\n",
        "train_loader = torch.utils.data.DataLoader(train_dataset, batch_size=64, shuffle=True)\n",
        "\n",
        "# Boucle d'entraînement\n",
        "def train(model, train_loader, criterion, optimizer, num_epochs=5):\n",
        "    for epoch in range(num_epochs):\n",
        "        running_loss = 0.0\n",
        "        for i, data in enumerate(train_loader, 0):\n",
        "            inputs, labels = data\n",
        "            optimizer.zero_grad()\n",
        "            outputs = model(inputs)\n",
        "            loss = criterion(outputs, labels)\n",
        "            loss.backward()\n",
        "            optimizer.step()\n",
        "            running_loss += loss.item()\n",
        "            if i % 100 == 99:  # Imprimer toutes les 100 mini-lots\n",
        "                print('[%d, %5d] loss: %.3f' %\n",
        "                      (epoch + 1, i + 1, running_loss / 100))\n",
        "                running_loss = 0.0\n",
        "\n",
        "# Entraînement du modèle en utilisant train_loader\n",
        "train(model, train_loader, criterion, optimizer)\n"
      ],
      "metadata": {
        "colab": {
          "base_uri": "https://localhost:8080/"
        },
        "id": "brvAisIZvsvx",
        "outputId": "7c8a996b-6879-4f93-e952-b654bb825b32"
      },
      "execution_count": null,
      "outputs": [
        {
          "output_type": "stream",
          "name": "stdout",
          "text": [
            "[1,   100] loss: 2.036\n",
            "[1,   200] loss: 1.674\n",
            "[1,   300] loss: 1.511\n",
            "[1,   400] loss: 1.424\n",
            "[1,   500] loss: 1.360\n",
            "[1,   600] loss: 1.350\n",
            "[1,   700] loss: 1.286\n",
            "[2,   100] loss: 1.200\n",
            "[2,   200] loss: 1.177\n",
            "[2,   300] loss: 1.149\n",
            "[2,   400] loss: 1.127\n",
            "[2,   500] loss: 1.086\n",
            "[2,   600] loss: 1.088\n",
            "[2,   700] loss: 1.081\n",
            "[3,   100] loss: 1.018\n",
            "[3,   200] loss: 1.017\n",
            "[3,   300] loss: 0.975\n",
            "[3,   400] loss: 0.994\n",
            "[3,   500] loss: 0.969\n",
            "[3,   600] loss: 0.956\n",
            "[3,   700] loss: 0.957\n",
            "[4,   100] loss: 0.895\n",
            "[4,   200] loss: 0.885\n",
            "[4,   300] loss: 0.869\n",
            "[4,   400] loss: 0.894\n",
            "[4,   500] loss: 0.887\n",
            "[4,   600] loss: 0.870\n",
            "[4,   700] loss: 0.877\n",
            "[5,   100] loss: 0.811\n",
            "[5,   200] loss: 0.805\n",
            "[5,   300] loss: 0.819\n",
            "[5,   400] loss: 0.818\n",
            "[5,   500] loss: 0.808\n",
            "[5,   600] loss: 0.810\n",
            "[5,   700] loss: 0.803\n"
          ]
        }
      ]
    },
    {
      "cell_type": "markdown",
      "source": [
        "# **Évaluation sur l'Ensemble de Test**\n",
        "\n",
        "\n",
        "1.   Évaluez les performances du modèle sur l'ensemble de test pour comprendre à quel point il généralise bien aux données non vues.\n",
        "\n",
        "\n"
      ],
      "metadata": {
        "id": "n0iWhclovw40"
      }
    },
    {
      "cell_type": "code",
      "source": [
        "# Création du DataLoader pour l'ensemble de test\n",
        "test_loader = torch.utils.data.DataLoader(test_dataset, batch_size=64, shuffle=False)\n",
        "\n",
        "# Évaluation du modèle\n",
        "def test(model, test_loader):\n",
        "    correct = 0\n",
        "    total = 0\n",
        "    with torch.no_grad():\n",
        "        for data in test_loader:\n",
        "            inputs, labels = data\n",
        "            outputs = model(inputs)\n",
        "            _, predicted = torch.max(outputs.data, 1)\n",
        "            total += labels.size(0)\n",
        "            correct += (predicted == labels).sum().item()\n",
        "    print('Accuracy of the network on the 10000 test images: %d %%' % (\n",
        "        100 * correct / total))\n",
        "\n",
        "# Évaluation du modèle en utilisant test_loader\n",
        "test(model, test_loader)\n",
        "\n"
      ],
      "metadata": {
        "colab": {
          "base_uri": "https://localhost:8080/"
        },
        "id": "pY4iTC8Gv9c8",
        "outputId": "280ec256-e16f-4490-d4c2-45807218b03e"
      },
      "execution_count": null,
      "outputs": [
        {
          "output_type": "stream",
          "name": "stdout",
          "text": [
            "Accuracy of the network on the 10000 test images: 68 %\n"
          ]
        }
      ]
    },
    {
      "cell_type": "markdown",
      "source": [
        "**Imports**"
      ],
      "metadata": {
        "id": "kVrB3bXfiBgW"
      }
    },
    {
      "cell_type": "code",
      "execution_count": null,
      "metadata": {
        "id": "2BZMYdNa8tW1"
      },
      "outputs": [],
      "source": [
        "import torch\n",
        "import torch.nn as nn\n",
        "import torch.nn.functional as F"
      ]
    },
    {
      "cell_type": "code",
      "source": [
        "# Check if GPU is available\n",
        "device = torch.device(\"cuda:0\" if torch.cuda.is_available() else \"cpu\")\n",
        "print(\"Using device:\", device)"
      ],
      "metadata": {
        "colab": {
          "base_uri": "https://localhost:8080/"
        },
        "id": "kv6F8HsJ_Eau",
        "outputId": "12d56832-140e-4abd-b468-05db22fae4a9"
      },
      "execution_count": null,
      "outputs": [
        {
          "output_type": "stream",
          "name": "stdout",
          "text": [
            "Using device: cpu\n"
          ]
        }
      ]
    },
    {
      "cell_type": "markdown",
      "source": [
        "#Get your training and evaluation data"
      ],
      "metadata": {
        "id": "bSGHzROH5Iuc"
      }
    },
    {
      "cell_type": "markdown",
      "source": [
        "**Datasets and DataLoaders**"
      ],
      "metadata": {
        "id": "qqYK0QL7vGb2"
      }
    },
    {
      "cell_type": "code",
      "source": [
        "import torchvision\n",
        "import torchvision.transforms as transforms\n",
        "\n",
        "batch_size = 512\n",
        "\n",
        "# Define data transformations\n",
        "transform = transforms.Compose([\n",
        "    # transforms.Resize(32),\n",
        "    transforms.ToTensor(),\n",
        "    # transforms.Normalize((0.5,), (0.5,))\n",
        "])\n",
        "\n",
        "# Load the CIFAR10 dataset\n",
        "train_dataset = torchvision.datasets.CIFAR10(\n",
        "    root='./data', train=True, download=True, transform=transform\n",
        ")\n",
        "\n",
        "test_dataset = torchvision.datasets.CIFAR10(\n",
        "    root='./data', train=False, download=True, transform=transform\n",
        ")\n",
        "\n",
        "# Create DataLoaders for train and test datasets\n",
        "train_loader = torch.utils.data.DataLoader(\n",
        "    train_dataset, batch_size=batch_size, shuffle=True,\n",
        "    num_workers=2, pin_memory=True,\n",
        "    # persistent_workers=True,\n",
        "    # prefetch_factor = 16\n",
        ")\n",
        "\n",
        "test_loader = torch.utils.data.DataLoader(\n",
        "    test_dataset, batch_size=batch_size, shuffle=False,\n",
        "    num_workers=2, pin_memory=True,\n",
        "    # persistent_workers=True,\n",
        "    # prefetch_factor = 16\n",
        ")\n",
        "\n",
        "print(\"Num training examples: {}\".format(len(train_dataset)))\n",
        "print(\"Num test examples: {}\".format(len(test_dataset)))\n",
        "\n",
        "\n",
        "# List of class labels\n",
        "classes =[\n",
        "    'airplane', 'automobile', 'bird', 'cat', 'deer',\n",
        "    'dog', 'frog', 'horse', 'ship', 'truck'\n",
        "    ]"
      ],
      "metadata": {
        "colab": {
          "base_uri": "https://localhost:8080/"
        },
        "id": "vuTIn80NvP6f",
        "outputId": "65c46967-752d-4c25-9978-a93dcf779846"
      },
      "execution_count": null,
      "outputs": [
        {
          "output_type": "stream",
          "name": "stdout",
          "text": [
            "Files already downloaded and verified\n",
            "Files already downloaded and verified\n",
            "Num training examples: 50000\n",
            "Num test examples: 10000\n"
          ]
        }
      ]
    },
    {
      "cell_type": "markdown",
      "source": [
        "**Visualise some of the dataset images**"
      ],
      "metadata": {
        "id": "GtPQM_jxxXgv"
      }
    },
    {
      "cell_type": "code",
      "source": [
        "def vect2image(vector):\n",
        "  '''\n",
        "   Conversion format vecteur => format image en couleurs\n",
        "  '''\n",
        "\n",
        "  image = vector.reshape((3, 32, 32) )\n",
        "  image = torch.permute( image, dims=(1, 2, 0))\n",
        "  return image\n",
        "\n",
        "def image2vector(image): #image : (512, 3, 32, 32)\n",
        "  '''\n",
        "   Conversion format vecteur => format image en couleurs\n",
        "  '''\n",
        "  # vect =  torch.permute(image, dims=(2, 0, 1))\n",
        "  vect =  torch.permute(image, dims=(0, 3, 1, 2))\n",
        "  vect = vect.reshape(-1, 3072)\n",
        "  return vect"
      ],
      "metadata": {
        "id": "OFb2-J8m0LfY"
      },
      "execution_count": null,
      "outputs": []
    },
    {
      "cell_type": "code",
      "source": [
        "import matplotlib.pyplot as plt\n",
        "import numpy as np\n",
        "\n",
        "# Function to unnormalize and display an image\n",
        "def imshow(img):\n",
        "    img = img / 2 + 0.5  # Unnormalize\n",
        "    npimg = img.numpy()\n",
        "    plt.imshow(np.transpose(npimg, (1, 2, 0)))\n",
        "    plt.show()\n",
        "\n",
        "# Get a batch of training data\n",
        "dataiter = iter(train_loader)\n",
        "images, labels = next(dataiter)\n",
        "\n",
        "# print(images.shape)\n",
        "\n",
        "# Display the images in a grid along with their labels\n",
        "imshow(torchvision.utils.make_grid(images[:16]))\n",
        "print(\" -- \".join(f\"{classes[labels[j]]}\" for j in range(8)))\n",
        "print(\" -- \".join(f\"{classes[labels[j]]}\" for j in range(8,16)))"
      ],
      "metadata": {
        "colab": {
          "base_uri": "https://localhost:8080/",
          "height": 226
        },
        "id": "oLN7n3BNxctU",
        "outputId": "825acac0-6446-4550-9465-c2d3bf686980"
      },
      "execution_count": null,
      "outputs": [
        {
          "output_type": "display_data",
          "data": {
            "text/plain": [
              "<Figure size 640x480 with 1 Axes>"
            ],
            "image/png": "[encoded data removed]"
          },
          "metadata": {}
        },
        {
          "output_type": "stream",
          "name": "stdout",
          "text": [
            "bird -- airplane -- ship -- airplane -- truck -- bird -- truck -- automobile\n",
            "bird -- dog -- cat -- airplane -- cat -- automobile -- ship -- horse\n"
          ]
        }
      ]
    },
    {
      "cell_type": "markdown",
      "source": [
        "#Create a model class"
      ],
      "metadata": {
        "id": "dNgxVViN5BSE"
      }
    },
    {
      "cell_type": "markdown",
      "source": [
        "**The torch `nn` module**"
      ],
      "metadata": {
        "id": "6AW6I_SXt-P9"
      }
    },
    {
      "cell_type": "code",
      "source": [
        "class ImageLinearClassifier(nn.Module):\n",
        "\n",
        "  def __init__(self):\n",
        "    super().__init__()\n",
        "    self.layer1 = nn.Linear(3072,10)\n",
        "\n",
        "  def forward(self, x): # x:input  3072 px flattened image\n",
        "    # Computation Graph Construction ....\n",
        "    x = image2vector(x)#.to(device)\n",
        "    out = self.layer1(x) # self.layer(x) performs w.T.matmul(x) + b\n",
        "\n",
        "    # out = nn.ReLU()(out)\n",
        "    return out\n",
        "\n",
        "model = ImageLinearClassifier()\n",
        "model.to(device)\n"
      ],
      "metadata": {
        "id": "BsgDpBQ6tSOF",
        "colab": {
          "base_uri": "https://localhost:8080/"
        },
        "outputId": "81582491-464e-4a08-f72d-a4cadec5eee5"
      },
      "execution_count": null,
      "outputs": [
        {
          "output_type": "execute_result",
          "data": {
            "text/plain": [
              "ImageLinearClassifier(\n",
              "  (layer1): Linear(in_features=3072, out_features=10, bias=True)\n",
              ")"
            ]
          },
          "metadata": {},
          "execution_count": 18
        }
      ]
    },
    {
      "cell_type": "markdown",
      "source": [
        "#Perform forward passes with training data"
      ],
      "metadata": {
        "id": "igi1e6j354wA"
      }
    },
    {
      "cell_type": "code",
      "source": [
        "\n",
        "\n",
        "print(model.layer1.weight.shape, model.layer1.bias.shape)\n",
        "\n",
        "# Get a batch of training data\n",
        "dataiter = iter(train_loader)\n",
        "images, labels = next(dataiter)\n",
        "labels.shape\n",
        "\n",
        "out = model(images) # same as model.forward(input) (batch_size, 3072)\n",
        "print(out)\n",
        "print(out.shape) # batchsize x output_dim"
      ],
      "metadata": {
        "colab": {
          "base_uri": "https://localhost:8080/"
        },
        "id": "FhKL05N9ulaW",
        "outputId": "c8bf1e1e-3478-4025-80fe-82c0390e9d55"
      },
      "execution_count": null,
      "outputs": [
        {
          "output_type": "stream",
          "name": "stdout",
          "text": [
            "torch.Size([10, 3072]) torch.Size([10])\n",
            "tensor([[ 0.1709,  0.0585,  0.3305,  ...,  0.0997,  0.2117, -0.0027],\n",
            "        [-0.0118, -0.1425,  0.2659,  ..., -0.0604,  0.2733,  0.1690],\n",
            "        [ 0.3407,  0.2486,  0.1362,  ..., -0.0384,  0.3022,  0.1438],\n",
            "        ...,\n",
            "        [ 0.2578,  0.0487,  0.3296,  ...,  0.1420,  0.2397, -0.1693],\n",
            "        [ 0.3943,  0.0366,  0.1718,  ...,  0.3417,  0.1226,  0.0994],\n",
            "        [ 0.1424,  0.1679,  0.1853,  ...,  0.1135,  0.1685,  0.1523]],\n",
            "       grad_fn=<AddmmBackward0>)\n",
            "torch.Size([8128, 10])\n"
          ]
        }
      ]
    },
    {
      "cell_type": "markdown",
      "source": [
        "#Set up an optimizer"
      ],
      "metadata": {
        "id": "xlB5lXE-5d4g"
      }
    },
    {
      "cell_type": "markdown",
      "source": [
        "Let's add a simple loss function"
      ],
      "metadata": {
        "id": "3TjFxF1wwaFY"
      }
    },
    {
      "cell_type": "code",
      "source": [
        "criterion = nn.CrossEntropyLoss()\n",
        "\n",
        "# loss = criterion(out, labels)\n",
        "# print(loss)"
      ],
      "metadata": {
        "id": "oiyCD05rvRdF"
      },
      "execution_count": null,
      "outputs": []
    },
    {
      "cell_type": "code",
      "source": [
        "optimizer = torch.optim.Adam(model.parameters(), lr=0.001) # this learning rate is extremely high for Adam btw"
      ],
      "metadata": {
        "id": "ceV9twblyG0y"
      },
      "execution_count": null,
      "outputs": []
    },
    {
      "cell_type": "code",
      "source": [
        "optimizer.zero_grad() # clears the gradients (they're cleared anyway at this point)\n",
        "# loss.backward() # calculates the gradients\n",
        "# print(model.layer1.weight.grad, model.layer1.bias.grad) # now we have gradients"
      ],
      "metadata": {
        "id": "_fp1nMUOyg0w"
      },
      "execution_count": null,
      "outputs": []
    },
    {
      "cell_type": "code",
      "source": [
        "optimizer.step()"
      ],
      "metadata": {
        "id": "W2kCjrgXzZ5B"
      },
      "execution_count": null,
      "outputs": []
    },
    {
      "cell_type": "markdown",
      "source": [
        "**A general PyTorch recipe:**\n",
        "\n",
        "\n",
        "1.   Get your training and evaluation data\n",
        "2.   Create a model class\n",
        "3.   Set up an optimizer\n",
        "4.   Perform forward passes with training data\n",
        "5. `optimizer.zero_grad()`\n",
        "6. `loss.backward()`\n",
        "7. `optimizer.step()`\n",
        "8. After few steps of training, evaluate on evaluation data\n",
        "9. Repeat until loss doesn't decrease or evaluation performance starts to fall off\n",
        "\n"
      ],
      "metadata": {
        "id": "1CoIIM8Azsip"
      }
    },
    {
      "cell_type": "markdown",
      "source": [
        "#Train Loop : Regroupe toutes ces etapes"
      ],
      "metadata": {
        "id": "BU_YJwCo666H"
      }
    },
    {
      "cell_type": "code",
      "source": [
        "import tqdm\n",
        "num_epochs = 10\n",
        "for epoch in range(num_epochs):\n",
        "  running_loss = 0.0\n",
        "  for i, (images, labels) in enumerate(tqdm.tqdm(train_loader, bar_format='{l_bar}{bar:30}{r_bar}{bar:-10b}'), 0):\n",
        "  # for i in range(len(train_dataset)//batch_size):\n",
        "    images = images.to(device, non_blocking=True)\n",
        "    labels= labels.to(device, non_blocking=True)\n",
        "    # images = torch.rand((batch_size, 3, 32, 32)).to(device, non_blocking=True)\n",
        "    # labels= torch.rand((batch_size, 10)).to(device, non_blocking=True)\n",
        "    optimizer.zero_grad()\n",
        "    out = model(images) #forward pass\n",
        "    loss = criterion(out, labels)\n",
        "    loss.backward() #calcul des gradients\n",
        "    optimizer.step()\n",
        "\n",
        "    # Update the running loss\n",
        "    running_loss += loss.item()\n",
        "  # Print the average loss for this epoch\n",
        "  avg_loss = running_loss / (i + 1)\n",
        "  print(f\"Epoch [{epoch + 1}/{num_epochs}], Loss: {avg_loss:.4f}\")\n",
        "\n"
      ],
      "metadata": {
        "colab": {
          "base_uri": "https://localhost:8080/"
        },
        "id": "SRBll_Vg65mq",
        "outputId": "075f9575-e4e9-4233-8ad4-7a2d13d1444d"
      },
      "execution_count": null,
      "outputs": [
        {
          "output_type": "stream",
          "name": "stderr",
          "text": [
            "100%|██████████████████████████████| 98/98 [00:09<00:00, 10.80it/s]\n"
          ]
        },
        {
          "output_type": "stream",
          "name": "stdout",
          "text": [
            "Epoch [1/10], Loss: 1.7007\n"
          ]
        },
        {
          "output_type": "stream",
          "name": "stderr",
          "text": [
            "100%|██████████████████████████████| 98/98 [00:07<00:00, 12.40it/s]\n"
          ]
        },
        {
          "output_type": "stream",
          "name": "stdout",
          "text": [
            "Epoch [2/10], Loss: 1.6908\n"
          ]
        },
        {
          "output_type": "stream",
          "name": "stderr",
          "text": [
            "100%|██████████████████████████████| 98/98 [00:09<00:00,  9.99it/s]\n"
          ]
        },
        {
          "output_type": "stream",
          "name": "stdout",
          "text": [
            "Epoch [3/10], Loss: 1.6961\n"
          ]
        },
        {
          "output_type": "stream",
          "name": "stderr",
          "text": [
            "100%|██████████████████████████████| 98/98 [00:08<00:00, 11.16it/s]\n"
          ]
        },
        {
          "output_type": "stream",
          "name": "stdout",
          "text": [
            "Epoch [4/10], Loss: 1.6962\n"
          ]
        },
        {
          "output_type": "stream",
          "name": "stderr",
          "text": [
            "100%|██████████████████████████████| 98/98 [00:08<00:00, 11.70it/s]\n"
          ]
        },
        {
          "output_type": "stream",
          "name": "stdout",
          "text": [
            "Epoch [5/10], Loss: 1.6970\n"
          ]
        },
        {
          "output_type": "stream",
          "name": "stderr",
          "text": [
            "100%|██████████████████████████████| 98/98 [00:09<00:00, 10.58it/s]\n"
          ]
        },
        {
          "output_type": "stream",
          "name": "stdout",
          "text": [
            "Epoch [6/10], Loss: 1.6889\n"
          ]
        },
        {
          "output_type": "stream",
          "name": "stderr",
          "text": [
            "100%|██████████████████████████████| 98/98 [00:08<00:00, 10.98it/s]\n"
          ]
        },
        {
          "output_type": "stream",
          "name": "stdout",
          "text": [
            "Epoch [7/10], Loss: 1.6857\n"
          ]
        },
        {
          "output_type": "stream",
          "name": "stderr",
          "text": [
            "100%|██████████████████████████████| 98/98 [00:09<00:00, 10.13it/s]\n"
          ]
        },
        {
          "output_type": "stream",
          "name": "stdout",
          "text": [
            "Epoch [8/10], Loss: 1.6912\n"
          ]
        },
        {
          "output_type": "stream",
          "name": "stderr",
          "text": [
            "100%|██████████████████████████████| 98/98 [00:08<00:00, 11.41it/s]\n"
          ]
        },
        {
          "output_type": "stream",
          "name": "stdout",
          "text": [
            "Epoch [9/10], Loss: 1.6827\n"
          ]
        },
        {
          "output_type": "stream",
          "name": "stderr",
          "text": [
            "100%|██████████████████████████████| 98/98 [00:08<00:00, 11.17it/s]"
          ]
        },
        {
          "output_type": "stream",
          "name": "stdout",
          "text": [
            "Epoch [10/10], Loss: 1.6801\n"
          ]
        },
        {
          "output_type": "stream",
          "name": "stderr",
          "text": [
            "\n"
          ]
        }
      ]
    },
    {
      "cell_type": "code",
      "source": [
        "W = list(model.parameters())\n",
        "W = W[0]\n",
        "W = W[7]\n",
        "W.shape\n",
        "W_image = vect2image(W)\n",
        "W_image.shape\n",
        "W_image = (W_image-W_image.min())/(W_image.max()-W_image.min())\n",
        "\n",
        "plt.figure(figsize=(1., 1.))\n",
        "plt.imshow(W_image.cpu().detach())"
      ],
      "metadata": {
        "colab": {
          "base_uri": "https://localhost:8080/",
          "height": 159
        },
        "id": "jNI_oA5mB2ZO",
        "outputId": "968a4f98-58eb-4ddb-9a44-56a1b3584fa4"
      },
      "execution_count": null,
      "outputs": [
        {
          "output_type": "execute_result",
          "data": {
            "text/plain": [
              "<matplotlib.image.AxesImage at 0x7bd86f101210>"
            ]
          },
          "metadata": {},
          "execution_count": 51
        },
        {
          "output_type": "display_data",
          "data": {
            "text/plain": [
              "<Figure size 100x100 with 1 Axes>"
            ],
            "image/png": "[encoded data removed]"
          },
          "metadata": {}
        }
      ]
    },
    {
      "cell_type": "markdown",
      "source": [
        "**Saving and loading models**"
      ],
      "metadata": {
        "id": "OeZxbcJM0NVB"
      }
    },
    {
      "cell_type": "code",
      "source": [
        "model.state_dict()"
      ],
      "metadata": {
        "id": "xNArbnlQKzhC",
        "colab": {
          "base_uri": "https://localhost:8080/"
        },
        "outputId": "fff87b91-6e34-4a1d-c23f-64e85bc4092c"
      },
      "execution_count": null,
      "outputs": [
        {
          "output_type": "execute_result",
          "data": {
            "text/plain": [
              "OrderedDict([('layer1.weight',\n",
              "              tensor([[ 0.0035,  0.0213, -0.0020,  ..., -0.0236, -0.0263, -0.0203],\n",
              "                      [-0.0175, -0.0181, -0.0177,  ...,  0.0315,  0.0239,  0.0045],\n",
              "                      [-0.0162, -0.0083,  0.0041,  ..., -0.0203, -0.0344, -0.0388],\n",
              "                      ...,\n",
              "                      [-0.0242, -0.0208, -0.0146,  ..., -0.0490, -0.0469, -0.0496],\n",
              "                      [ 0.0752,  0.0443,  0.0180,  ...,  0.1018,  0.0864,  0.0726],\n",
              "                      [-0.0182, -0.0233, -0.0339,  ...,  0.0095,  0.0022,  0.0520]])),\n",
              "             ('layer1.bias',\n",
              "              tensor([-0.3727,  0.2154,  0.1425,  0.1698,  0.1675, -0.1204,  0.2658,  0.0424,\n",
              "                      -0.3649,  0.0208]))])"
            ]
          },
          "metadata": {},
          "execution_count": 23
        }
      ]
    },
    {
      "cell_type": "code",
      "source": [
        "torch.save(model.state_dict(), \"model.pt\") # saving the model\n"
      ],
      "metadata": {
        "id": "XvdKgw2G0RK0"
      },
      "execution_count": null,
      "outputs": []
    },
    {
      "cell_type": "code",
      "source": [
        "\n",
        "new_model = ImageLinearClassifier()\n",
        "new_model.load_state_dict(torch.load(\"model.pt\")) # loading the model"
      ],
      "metadata": {
        "id": "bVR0FcNRB46N"
      },
      "execution_count": null,
      "outputs": []
    },
    {
      "cell_type": "markdown",
      "source": [
        "A couple more useful torch modules that you might find useful for assignments 2 and 3 are `nn.Sequential` and the `Conv2D` module. Check these out in the [PyTorch documentation](https://pytorch.org/docs/stable/index.html)!"
      ],
      "metadata": {
        "id": "yb1rs7oN1Au9"
      }
    },
    {
      "cell_type": "markdown",
      "source": [
        "#Evaluer sur le Test Dataset"
      ],
      "metadata": {
        "id": "UahWohXQCWbi"
      }
    },
    {
      "cell_type": "code",
      "source": [
        "all_labels = []\n",
        "all_predictions = []\n",
        "\n",
        "model.eval()\n",
        "with torch.no_grad():\n",
        "  for i, (images, labels) in enumerate(test_loader, 0):\n",
        "      images = images.to(device, non_blocking=True)\n",
        "\n",
        "      labels= labels.to(device, non_blocking=True)\n",
        "      all_labels.append(labels)\n",
        "\n",
        "      out = model(images) #forward pass\n",
        "      all_predictions.append(torch.argmax(out, dim=1))"
      ],
      "metadata": {
        "id": "_ryDPj2-CjLz"
      },
      "execution_count": null,
      "outputs": []
    },
    {
      "cell_type": "code",
      "source": [
        "all_labels = torch.concat(all_labels)\n",
        "all_predictions = torch.concat(all_predictions)"
      ],
      "metadata": {
        "id": "YrMC7iVUEuxv"
      },
      "execution_count": null,
      "outputs": []
    },
    {
      "cell_type": "code",
      "source": [
        "msk = all_labels==all_predictions\n",
        "\n",
        "accuracy = all_labels[msk].shape[0] / all_labels.shape[0]\n",
        "\n",
        "print(f\"Accuracy: {accuracy}\")"
      ],
      "metadata": {
        "colab": {
          "base_uri": "https://localhost:8080/"
        },
        "id": "HIw6eAwYFsd5",
        "outputId": "1752e580-90cd-4b1d-d3ad-6582bd96e897"
      },
      "execution_count": null,
      "outputs": [
        {
          "output_type": "stream",
          "name": "stdout",
          "text": [
            "Accuracy: 0.4032\n"
          ]
        }
      ]
    }
  ]
}